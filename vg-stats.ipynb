{
 "cells": [
  {
   "cell_type": "markdown",
   "metadata": {},
   "source": [
    "# **Video Game Stats Analysis**\n",
    "## Student : Tariq Sharaia\n",
    "## Date : 15-Nov-2021\n",
    "<br>\n",
    "\n",
    "# 1- Which company is the most common video game publisher?\n",
    "## Electronic Arts\n",
    "\n",
    "# 2- What's the most common platform?\n",
    "## DS\n",
    "\n",
    "# 3- What about the most common genre?\n",
    "## Action\n",
    "\n",
    "# 4- What are the top 20 highest grossing games?\n",
    "##                                            Name  Global_Sales\n",
    "### 0-                                     Wii Sports         82.74\n",
    "### 1-                              Super Mario Bros.         40.24\n",
    "### 2-                                 Mario Kart Wii         35.82\n",
    "### 3-                              Wii Sports Resort         33.00\n",
    "### 4-                       Pokemon Red/Pokemon Blue         31.37\n",
    "### 5-                                         Tetris         30.26\n",
    "### 6-                          New Super Mario Bros.         30.01\n",
    "### 7-                                       Wii Play         29.02\n",
    "### 8-                      New Super Mario Bros. Wii         28.62\n",
    "### 9-                                      Duck Hunt         28.31\n",
    "### 10-                                    Nintendogs         24.76\n",
    "### 11-                                 Mario Kart DS         23.42\n",
    "### 12-                   Pokemon Gold/Pokemon Silver         23.10\n",
    "### 13-                                       Wii Fit         22.72\n",
    "### 14-                                  Wii Fit Plus         22.00\n",
    "### 15-                            Kinect Adventures!         21.82\n",
    "### 16-                            Grand Theft Auto V         21.40\n",
    "### 17-                 Grand Theft Auto: San Andreas         20.81\n",
    "### 18-                             Super Mario World         20.61\n",
    "### 19-  Brain Age: Train Your Brain in Minutes a Day         20.22\n",
    "\n",
    "\n",
    "# 5- For North American video game sales, what's the median? 10games\n",
    "- ### Spider-Man: Edge of Time\n",
    "- ### Turok: Evolution\n",
    "- ### Dead- ### pool\n",
    "- ### GT Advance 2: Rally Racing\n",
    "- ### A Witch's Tale\n",
    "- ### Nickelodeon Dance\n",
    "- ### Phantasy Star Collection\n",
    "- ### LEGO Knights' Kingdom\n",
    "- ### Family Game Night 4: The Game Show\n",
    "- ### NBA Jam 2002\n",
    "\n",
    "\n",
    "# 6- For the top-selling game of all time, how many standard deviations above/below the mean are its sales for North America?\n",
    "### 0.32407607396719995\n",
    "\n",
    "# 7- The Nintendo Wii seems to have outdone itself with games. How does its average number of sales compare with all of the other platforms?\n",
    "- ### Not Wii 0.5233896418516336\n",
    "- ### Wii 0.6994037735849057"
   ]
  },
  {
   "cell_type": "markdown",
   "metadata": {},
   "source": []
  },
  {
   "cell_type": "markdown",
   "metadata": {},
   "source": []
  },
  {
   "cell_type": "code",
   "execution_count": null,
   "metadata": {},
   "outputs": [],
   "source": [
    "import pandas as pd\n",
    "\n",
    "vg_sales_file = \"kaggle_data/vgsales.csv\"\n",
    "data = pd.read_csv(vg_sales_file)\n",
    "data = data[data[\"Global_sales\"]>0.1]"
   ]
  },
  {
   "cell_type": "code",
   "execution_count": 11,
   "metadata": {},
   "outputs": [
    {
     "data": {
      "text/plain": [
       "'Electronic Arts'"
      ]
     },
     "execution_count": 11,
     "metadata": {},
     "output_type": "execute_result"
    }
   ],
   "source": [
    "most_videoGame_publisher = data[\"Publisher\"].value_counts().idxmax()\n",
    "most_videoGame_publisher"
   ]
  },
  {
   "cell_type": "code",
   "execution_count": null,
   "metadata": {},
   "outputs": [
    {
     "data": {
      "text/plain": [
       "'DS'"
      ]
     },
     "execution_count": 3,
     "metadata": {},
     "output_type": "execute_result"
    }
   ],
   "source": [
    "most_common_platform = data[\"Platform\"].value_counts().idxmax()\n",
    "most_common_platform"
   ]
  },
  {
   "cell_type": "code",
   "execution_count": null,
   "metadata": {},
   "outputs": [
    {
     "data": {
      "text/plain": [
       "'Action'"
      ]
     },
     "execution_count": 4,
     "metadata": {},
     "output_type": "execute_result"
    }
   ],
   "source": [
    "most_common_genre = data[\"Genre\"].value_counts().idxmax()\n",
    "most_common_genre"
   ]
  },
  {
   "cell_type": "code",
   "execution_count": null,
   "metadata": {},
   "outputs": [
    {
     "data": {
      "text/html": [
       "<div>\n",
       "<style scoped>\n",
       "    .dataframe tbody tr th:only-of-type {\n",
       "        vertical-align: middle;\n",
       "    }\n",
       "\n",
       "    .dataframe tbody tr th {\n",
       "        vertical-align: top;\n",
       "    }\n",
       "\n",
       "    .dataframe thead th {\n",
       "        text-align: right;\n",
       "    }\n",
       "</style>\n",
       "<table border=\"1\" class=\"dataframe\">\n",
       "  <thead>\n",
       "    <tr style=\"text-align: right;\">\n",
       "      <th></th>\n",
       "      <th>Name</th>\n",
       "      <th>Global_Sales</th>\n",
       "    </tr>\n",
       "  </thead>\n",
       "  <tbody>\n",
       "    <tr>\n",
       "      <th>0</th>\n",
       "      <td>Wii Sports</td>\n",
       "      <td>82.74</td>\n",
       "    </tr>\n",
       "    <tr>\n",
       "      <th>1</th>\n",
       "      <td>Super Mario Bros.</td>\n",
       "      <td>40.24</td>\n",
       "    </tr>\n",
       "    <tr>\n",
       "      <th>2</th>\n",
       "      <td>Mario Kart Wii</td>\n",
       "      <td>35.82</td>\n",
       "    </tr>\n",
       "    <tr>\n",
       "      <th>3</th>\n",
       "      <td>Wii Sports Resort</td>\n",
       "      <td>33.00</td>\n",
       "    </tr>\n",
       "    <tr>\n",
       "      <th>4</th>\n",
       "      <td>Pokemon Red/Pokemon Blue</td>\n",
       "      <td>31.37</td>\n",
       "    </tr>\n",
       "    <tr>\n",
       "      <th>5</th>\n",
       "      <td>Tetris</td>\n",
       "      <td>30.26</td>\n",
       "    </tr>\n",
       "    <tr>\n",
       "      <th>6</th>\n",
       "      <td>New Super Mario Bros.</td>\n",
       "      <td>30.01</td>\n",
       "    </tr>\n",
       "    <tr>\n",
       "      <th>7</th>\n",
       "      <td>Wii Play</td>\n",
       "      <td>29.02</td>\n",
       "    </tr>\n",
       "    <tr>\n",
       "      <th>8</th>\n",
       "      <td>New Super Mario Bros. Wii</td>\n",
       "      <td>28.62</td>\n",
       "    </tr>\n",
       "    <tr>\n",
       "      <th>9</th>\n",
       "      <td>Duck Hunt</td>\n",
       "      <td>28.31</td>\n",
       "    </tr>\n",
       "    <tr>\n",
       "      <th>10</th>\n",
       "      <td>Nintendogs</td>\n",
       "      <td>24.76</td>\n",
       "    </tr>\n",
       "    <tr>\n",
       "      <th>11</th>\n",
       "      <td>Mario Kart DS</td>\n",
       "      <td>23.42</td>\n",
       "    </tr>\n",
       "    <tr>\n",
       "      <th>12</th>\n",
       "      <td>Pokemon Gold/Pokemon Silver</td>\n",
       "      <td>23.10</td>\n",
       "    </tr>\n",
       "    <tr>\n",
       "      <th>13</th>\n",
       "      <td>Wii Fit</td>\n",
       "      <td>22.72</td>\n",
       "    </tr>\n",
       "    <tr>\n",
       "      <th>14</th>\n",
       "      <td>Wii Fit Plus</td>\n",
       "      <td>22.00</td>\n",
       "    </tr>\n",
       "    <tr>\n",
       "      <th>15</th>\n",
       "      <td>Kinect Adventures!</td>\n",
       "      <td>21.82</td>\n",
       "    </tr>\n",
       "    <tr>\n",
       "      <th>16</th>\n",
       "      <td>Grand Theft Auto V</td>\n",
       "      <td>21.40</td>\n",
       "    </tr>\n",
       "    <tr>\n",
       "      <th>17</th>\n",
       "      <td>Grand Theft Auto: San Andreas</td>\n",
       "      <td>20.81</td>\n",
       "    </tr>\n",
       "    <tr>\n",
       "      <th>18</th>\n",
       "      <td>Super Mario World</td>\n",
       "      <td>20.61</td>\n",
       "    </tr>\n",
       "    <tr>\n",
       "      <th>19</th>\n",
       "      <td>Brain Age: Train Your Brain in Minutes a Day</td>\n",
       "      <td>20.22</td>\n",
       "    </tr>\n",
       "  </tbody>\n",
       "</table>\n",
       "</div>"
      ],
      "text/plain": [
       "                                            Name  Global_Sales\n",
       "0                                     Wii Sports         82.74\n",
       "1                              Super Mario Bros.         40.24\n",
       "2                                 Mario Kart Wii         35.82\n",
       "3                              Wii Sports Resort         33.00\n",
       "4                       Pokemon Red/Pokemon Blue         31.37\n",
       "5                                         Tetris         30.26\n",
       "6                          New Super Mario Bros.         30.01\n",
       "7                                       Wii Play         29.02\n",
       "8                      New Super Mario Bros. Wii         28.62\n",
       "9                                      Duck Hunt         28.31\n",
       "10                                    Nintendogs         24.76\n",
       "11                                 Mario Kart DS         23.42\n",
       "12                   Pokemon Gold/Pokemon Silver         23.10\n",
       "13                                       Wii Fit         22.72\n",
       "14                                  Wii Fit Plus         22.00\n",
       "15                            Kinect Adventures!         21.82\n",
       "16                            Grand Theft Auto V         21.40\n",
       "17                 Grand Theft Auto: San Andreas         20.81\n",
       "18                             Super Mario World         20.61\n",
       "19  Brain Age: Train Your Brain in Minutes a Day         20.22"
      ]
     },
     "execution_count": 6,
     "metadata": {},
     "output_type": "execute_result"
    }
   ],
   "source": [
    "top_twenty_grossing_games = data[[\"Name\",\"Global_Sales\"]][0:20]\n",
    "top_twenty_grossing_games"
   ]
  },
  {
   "cell_type": "code",
   "execution_count": null,
   "metadata": {},
   "outputs": [
    {
     "data": {
      "text/plain": [
       "0.32407607396719995"
      ]
     },
     "execution_count": 7,
     "metadata": {},
     "output_type": "execute_result"
    }
   ],
   "source": [
    "north_america_median_sales = data[\"NA_Sales\"].mean()/data[\"NA_Sales\"].std()\n",
    "north_america_median_sales"
   ]
  },
  {
   "cell_type": "code",
   "execution_count": 12,
   "metadata": {},
   "outputs": [
    {
     "data": {
      "text/html": [
       "<div>\n",
       "<style scoped>\n",
       "    .dataframe tbody tr th:only-of-type {\n",
       "        vertical-align: middle;\n",
       "    }\n",
       "\n",
       "    .dataframe tbody tr th {\n",
       "        vertical-align: top;\n",
       "    }\n",
       "\n",
       "    .dataframe thead th {\n",
       "        text-align: right;\n",
       "    }\n",
       "</style>\n",
       "<table border=\"1\" class=\"dataframe\">\n",
       "  <thead>\n",
       "    <tr style=\"text-align: right;\">\n",
       "      <th></th>\n",
       "      <th>Name</th>\n",
       "      <th>Global_Sales</th>\n",
       "    </tr>\n",
       "  </thead>\n",
       "  <tbody>\n",
       "    <tr>\n",
       "      <th>16597</th>\n",
       "      <td>Spirits &amp; Spells</td>\n",
       "      <td>0.01</td>\n",
       "    </tr>\n",
       "  </tbody>\n",
       "</table>\n",
       "</div>"
      ],
      "text/plain": [
       "                   Name  Global_Sales\n",
       "16597  Spirits & Spells          0.01"
      ]
     },
     "execution_count": 12,
     "metadata": {},
     "output_type": "execute_result"
    }
   ],
   "source": [
    "least_sold_game = data[[\"Name\",\"Global_Sales\"]].sort_values(\"Global_Sales\",ascending=True)[:1]\n",
    "least_sold_game"
   ]
  },
  {
   "cell_type": "code",
   "execution_count": 13,
   "metadata": {},
   "outputs": [
    {
     "data": {
      "text/html": [
       "<div>\n",
       "<style scoped>\n",
       "    .dataframe tbody tr th:only-of-type {\n",
       "        vertical-align: middle;\n",
       "    }\n",
       "\n",
       "    .dataframe tbody tr th {\n",
       "        vertical-align: top;\n",
       "    }\n",
       "\n",
       "    .dataframe thead th {\n",
       "        text-align: right;\n",
       "    }\n",
       "</style>\n",
       "<table border=\"1\" class=\"dataframe\">\n",
       "  <thead>\n",
       "    <tr style=\"text-align: right;\">\n",
       "      <th></th>\n",
       "      <th>Name</th>\n",
       "      <th>Year</th>\n",
       "    </tr>\n",
       "  </thead>\n",
       "  <tbody>\n",
       "    <tr>\n",
       "      <th>5957</th>\n",
       "      <td>Imagine: Makeup Artist</td>\n",
       "      <td>2020.0</td>\n",
       "    </tr>\n",
       "  </tbody>\n",
       "</table>\n",
       "</div>"
      ],
      "text/plain": [
       "                        Name    Year\n",
       "5957  Imagine: Makeup Artist  2020.0"
      ]
     },
     "execution_count": 13,
     "metadata": {},
     "output_type": "execute_result"
    }
   ],
   "source": [
    "last_sold_game = data[[\"Name\",\"Year\"]].sort_values(\"Year\",ascending=False)[:1]\n",
    "last_sold_game"
   ]
  },
  {
   "cell_type": "code",
   "execution_count": 10,
   "metadata": {},
   "outputs": [
    {
     "name": "stdout",
     "output_type": "stream",
     "text": [
      "Success!!!\n"
     ]
    }
   ],
   "source": [
    "def test():\n",
    "\n",
    "    def assert_equal(actual,expected):\n",
    "        assert actual == expected, f\"Expected {expected} but got {actual}\"\n",
    "\n",
    "    assert_equal(str(most_videoGame_publisher), \"Electronic Arts\")\n",
    "    assert_equal(most_common_platform, \"DS\")\n",
    "    assert_equal(most_common_genre, \"Action\")\n",
    "    assert_equal(top_twenty_grossing_games.iloc[0].Name, \"Wii Sports\")\n",
    "    assert_equal(top_twenty_grossing_games.iloc[19].Name, \"Brain Age: Train Your Brain in Minutes a Day\")\n",
    "    assert_equal(north_america_median_sales, 0.32407607396719995)\n",
    "    # assert_equal(ten_median_na_seller_names, ten_median_na_seller_names)\n",
    "\n",
    "    print(\"Success!!!\")\n",
    "test()"
   ]
  }
 ],
 "metadata": {
  "interpreter": {
   "hash": "d5848dd44c60b0962be3d3568060f4e1177d67b876332d7a1a6281e29e0d7ffe"
  },
  "kernelspec": {
   "display_name": "Python 3.9.5 64-bit ('.venv': poetry)",
   "language": "python",
   "name": "python3"
  },
  "language_info": {
   "codemirror_mode": {
    "name": "ipython",
    "version": 3
   },
   "file_extension": ".py",
   "mimetype": "text/x-python",
   "name": "python",
   "nbconvert_exporter": "python",
   "pygments_lexer": "ipython3",
   "version": "3.9.5"
  },
  "orig_nbformat": 4
 },
 "nbformat": 4,
 "nbformat_minor": 2
}
